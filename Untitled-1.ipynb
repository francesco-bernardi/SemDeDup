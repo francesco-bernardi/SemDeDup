{
 "cells": [
  {
   "cell_type": "code",
   "execution_count": 1,
   "metadata": {},
   "outputs": [
    {
     "name": "stderr",
     "output_type": "stream",
     "text": [
      "/home/fbernardi/miniconda3/envs/semdedup/lib/python3.9/site-packages/tqdm/auto.py:21: TqdmWarning: IProgress not found. Please update jupyter and ipywidgets. See https://ipywidgets.readthedocs.io/en/stable/user_install.html\n",
      "  from .autonotebook import tqdm as notebook_tqdm\n"
     ]
    }
   ],
   "source": [
    "import numpy as np\n",
    "import os\n",
    "from functools import partial\n",
    "from transformers import CLIPModel, CLIPImageProcessor\n",
    "from compute_pretrained_embeddings import get_embeddings\n",
    "from dataloader import TarImageDataset, custom_collate_fn\n",
    "from torch.utils.data import DataLoader\n",
    "from my_utils import load_config\n",
    "\n",
    "config = load_config(\"semdedup_configs.yaml\")\n",
    "\n",
    "model_name = \"openai/clip-vit-base-patch32\"\n",
    "tar_files_directory = \"/home/fbernardi/Documents/SemDeDup/data/raw\"\n",
    "batch_size = 32\n",
    "\n",
    "model = CLIPModel.from_pretrained(model_name)\n",
    "image_processor = CLIPImageProcessor.from_pretrained(model_name)\n",
    "my_collate_fn = partial(custom_collate_fn, image_processor=image_processor)\n",
    "\n",
    "dataset = TarImageDataset(tar_dir=tar_files_directory, transform=None)\n",
    "dataloader = DataLoader(\n",
    "    dataset, \n",
    "    batch_size=batch_size, \n",
    "    shuffle=True, \n",
    "    collate_fn=my_collate_fn,\n",
    "    num_workers=0)\n",
    "\n",
    "path_str_type = 'int'\n",
    "emb_memory_loc = config['embs_memory_loc']\n",
    "paths_memory_loc = ...\n",
    "dataset_size = dataset.__len__()\n",
    "emb_size = config['emd_size']\n",
    "emb_array = np.memmap(emb_memory_loc, dtype='float32', mode='w+', shape=(dataset_size, emb_size))\n",
    "path_array = np.memmap(emb_memory_loc, dtype=path_str_type, mode='w+', shape=(dataset_size,))"
   ]
  },
  {
   "cell_type": "code",
   "execution_count": 2,
   "metadata": {},
   "outputs": [
    {
     "data": {
      "text/plain": [
       "(4,)"
      ]
     },
     "execution_count": 2,
     "metadata": {},
     "output_type": "execute_result"
    }
   ],
   "source": [
    "path_array.shape"
   ]
  },
  {
   "cell_type": "code",
   "execution_count": 3,
   "metadata": {},
   "outputs": [
    {
     "data": {
      "text/plain": [
       "(4, 512)"
      ]
     },
     "execution_count": 3,
     "metadata": {},
     "output_type": "execute_result"
    }
   ],
   "source": [
    "emb_array.shape"
   ]
  },
  {
   "cell_type": "code",
   "execution_count": 4,
   "metadata": {},
   "outputs": [],
   "source": [
    "import torch\n",
    "from tqdm import tqdm\n",
    "from torch.nn.functional import normalize"
   ]
  },
  {
   "cell_type": "code",
   "execution_count": 5,
   "metadata": {},
   "outputs": [],
   "source": [
    "# -- Device\n",
    "device = \"cuda\" if torch.cuda.is_available() else \"cpu\"\n",
    "\n",
    "# -- model\n",
    "model = model.to(device)\n",
    "model = model.eval()"
   ]
  },
  {
   "cell_type": "code",
   "execution_count": 6,
   "metadata": {},
   "outputs": [
    {
     "name": "stderr",
     "output_type": "stream",
     "text": [
      "  0%|          | 0/1 [00:00<?, ?it/s]"
     ]
    },
    {
     "ename": "",
     "evalue": "",
     "output_type": "error",
     "traceback": [
      "\u001b[1;31mThe Kernel crashed while executing code in the current cell or a previous cell. \n",
      "\u001b[1;31mPlease review the code in the cell(s) to identify a possible cause of the failure. \n",
      "\u001b[1;31mClick <a href='https://aka.ms/vscodeJupyterKernelCrash'>here</a> for more info. \n",
      "\u001b[1;31mView Jupyter <a href='command:jupyter.viewOutput'>log</a> for further details."
     ]
    }
   ],
   "source": [
    "# emd_memmap = emb_array\n",
    "# paths_memmap = path_array\n",
    "\n",
    "with torch.no_grad():\n",
    "    for data_batch, paths_batch, batch_indices in tqdm(dataloader):\n",
    "        data_batch = data_batch.to(device)\n",
    "        encodings = model.get_image_features(pixel_values=data_batch)\n",
    "        encodings = encodings.cpu()\n",
    "        emb_array[batch_indices] = normalize(encodings, dim=1)\n",
    "        path_array[batch_indices] = paths_batch"
   ]
  },
  {
   "cell_type": "code",
   "execution_count": null,
   "metadata": {},
   "outputs": [],
   "source": [
    "embeddings, paths = get_embeddings(model, dataloader, emb_array, path_array)"
   ]
  },
  {
   "cell_type": "code",
   "execution_count": null,
   "metadata": {},
   "outputs": [],
   "source": [
    "emb_array[0]"
   ]
  }
 ],
 "metadata": {
  "kernelspec": {
   "display_name": "semdedup",
   "language": "python",
   "name": "python3"
  },
  "language_info": {
   "codemirror_mode": {
    "name": "ipython",
    "version": 3
   },
   "file_extension": ".py",
   "mimetype": "text/x-python",
   "name": "python",
   "nbconvert_exporter": "python",
   "pygments_lexer": "ipython3",
   "version": "3.9.7"
  }
 },
 "nbformat": 4,
 "nbformat_minor": 2
}
