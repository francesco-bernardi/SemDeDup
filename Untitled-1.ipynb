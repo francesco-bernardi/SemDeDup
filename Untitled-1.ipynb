{
 "cells": [
  {
   "cell_type": "code",
   "execution_count": null,
   "metadata": {},
   "outputs": [],
   "source": [
    "import numpy as np\n",
    "import os\n",
    "from functools import partial\n",
    "from transformers import CLIPModel, CLIPImageProcessor\n",
    "from compute_pretrained_embeddings import get_embeddings\n",
    "from dataloader import TarImageDataset, custom_collate_fn\n",
    "from torch.utils.data import DataLoader\n",
    "from my_utils import load_config\n",
    "\n",
    "config = load_config(\"semdedup_configs.yaml\")\n",
    "\n",
    "model_name = \"openai/clip-vit-base-patch32\"\n",
    "tar_files_directory = os.path.abspath(\"data/raw\")\n",
    "batch_size = 32\n",
    "\n",
    "model = CLIPModel.from_pretrained(model_name)\n",
    "image_processor = CLIPImageProcessor.from_pretrained(model_name)\n",
    "my_collate_fn = partial(custom_collate_fn, image_processor=image_processor)\n",
    "\n",
    "dataset = TarImageDataset(tar_dir=tar_files_directory, transform=None)\n",
    "dataloader = DataLoader(\n",
    "    dataset, \n",
    "    batch_size=batch_size, \n",
    "    shuffle=True, \n",
    "    collate_fn=my_collate_fn,\n",
    "    num_workers=0)\n",
    "\n",
    "paths_str_type = 'U256' #'S256'\n",
    "embed_float_type = 'float32' #'S256'\n",
    "emb_memory_loc = config['embs_memory_loc']\n",
    "paths_memory_loc = config['path_memory_loc']\n",
    "dataset_size = dataset.__len__()\n",
    "emb_size = config['emd_size']\n",
    "\n",
    "emb_array = np.memmap(\n",
    "    emb_memory_loc, \n",
    "    dtype=embed_float_type, \n",
    "    mode='w+', \n",
    "    shape=(dataset_size, emb_size)\n",
    ")\n",
    "\n",
    "path_array = np.memmap(\n",
    "    paths_memory_loc, \n",
    "    dtype=paths_str_type,\n",
    "    mode='w+', \n",
    "    shape=(dataset_size,)\n",
    ")"
   ]
  },
  {
   "cell_type": "code",
   "execution_count": 7,
   "metadata": {},
   "outputs": [],
   "source": [
    "import torch"
   ]
  },
  {
   "cell_type": "code",
   "execution_count": null,
   "metadata": {},
   "outputs": [],
   "source": [
    "!nvidia-smi"
   ]
  },
  {
   "cell_type": "code",
   "execution_count": 8,
   "metadata": {},
   "outputs": [
    {
     "name": "stdout",
     "output_type": "stream",
     "text": [
      "PyTorch version: 2.6.0+cu124\n",
      "CUDA available: True\n",
      "CUDA version PyTorch is built with: 12.4\n",
      "CUDA device count: 2\n"
     ]
    }
   ],
   "source": [
    "print(\"PyTorch version:\", torch.__version__)\n",
    "print(\"CUDA available:\", torch.cuda.is_available())\n",
    "print(\"CUDA version PyTorch is built with:\", torch.version.cuda)\n",
    "print(\"CUDA device count:\", torch.cuda.device_count())"
   ]
  },
  {
   "cell_type": "code",
   "execution_count": 9,
   "metadata": {},
   "outputs": [
    {
     "name": "stdout",
     "output_type": "stream",
     "text": [
      "cuda\n"
     ]
    }
   ],
   "source": [
    "# -- Device\n",
    "device = \"cuda\" if torch.cuda.is_available() else \"cpu\"\n",
    "print(device)\n",
    "# -- model\n",
    "model = model.to(device)\n",
    "model = model.eval()"
   ]
  },
  {
   "cell_type": "code",
   "execution_count": 10,
   "metadata": {},
   "outputs": [],
   "source": [
    "with torch.no_grad():\n",
    "    for data_batch, paths_batch, batch_indices in dataloader:\n",
    "        if True:\n",
    "            break"
   ]
  },
  {
   "cell_type": "markdown",
   "metadata": {},
   "source": [
    "[`get_image_features`](https://huggingface.co/docs/transformers/en/model_doc/clip#transformers.CLIPModel.get_image_features)"
   ]
  },
  {
   "cell_type": "code",
   "execution_count": 11,
   "metadata": {},
   "outputs": [],
   "source": [
    "encodings = model.get_image_features(\n",
    "    pixel_values=data_batch\n",
    ")"
   ]
  },
  {
   "cell_type": "code",
   "execution_count": 12,
   "metadata": {},
   "outputs": [
    {
     "data": {
      "text/plain": [
       "torch.Size([32, 512])"
      ]
     },
     "execution_count": 12,
     "metadata": {},
     "output_type": "execute_result"
    }
   ],
   "source": [
    "encodings.shape"
   ]
  },
  {
   "cell_type": "code",
   "execution_count": 13,
   "metadata": {},
   "outputs": [],
   "source": [
    "from torch.nn.functional import normalize"
   ]
  },
  {
   "cell_type": "code",
   "execution_count": 14,
   "metadata": {},
   "outputs": [],
   "source": [
    "embeds_normalized = normalize(encodings, dim=1)"
   ]
  },
  {
   "cell_type": "code",
   "execution_count": 16,
   "metadata": {},
   "outputs": [],
   "source": [
    "path_array[batch_indices] = paths_batch"
   ]
  },
  {
   "cell_type": "code",
   "execution_count": 17,
   "metadata": {},
   "outputs": [],
   "source": [
    "emb_array[batch_indices] = embeds_normalized.cpu().detach().numpy()"
   ]
  },
  {
   "cell_type": "code",
   "execution_count": 18,
   "metadata": {},
   "outputs": [
    {
     "data": {
      "text/plain": [
       "array([[-0.02233509, -0.02032149,  0.02072333, ...,  0.09887572,\n",
       "        -0.00211839, -0.01152895],\n",
       "       [ 0.00800907,  0.02617006,  0.00255419, ...,  0.03405451,\n",
       "         0.01636192,  0.00202419],\n",
       "       [-0.0636093 , -0.01677628,  0.04364581, ...,  0.07423619,\n",
       "        -0.03214012,  0.00549925],\n",
       "       ...,\n",
       "       [ 0.02042953,  0.01727075,  0.00955408, ...,  0.05227413,\n",
       "        -0.02564773,  0.02683108],\n",
       "       [-0.02755074,  0.05310895,  0.00985589, ...,  0.06265323,\n",
       "         0.02549751, -0.00182506],\n",
       "       [ 0.01792138, -0.0007999 ,  0.02287464, ..., -0.04192063,\n",
       "         0.01003846,  0.01667938]], dtype=float32)"
      ]
     },
     "execution_count": 18,
     "metadata": {},
     "output_type": "execute_result"
    }
   ],
   "source": [
    "emb_array[batch_indices]"
   ]
  },
  {
   "cell_type": "code",
   "execution_count": 22,
   "metadata": {},
   "outputs": [
    {
     "data": {
      "text/plain": [
       "array(['000000000527.jpg', '000000010133.jpg', '000000000084.jpg',\n",
       "       '000000011394.jpg', '000000010571.jpg', '000000011143.jpg',\n",
       "       '000000010723.jpg', '000000010278.jpg', '000000010409.jpg',\n",
       "       '000000010302.jpg', '000000000439.jpg', '000000000519.jpg',\n",
       "       '000000010795.jpg', '000000010349.jpg', '000000010793.jpg',\n",
       "       '000000011156.jpg', '000000011020.jpg', '000000000422.jpg',\n",
       "       '000000000787.jpg', '000000011053.jpg', '000000011151.jpg',\n",
       "       '000000010932.jpg', '000000000345.jpg', '000000011260.jpg',\n",
       "       '000000010872.jpg', '000000000739.jpg', '000000010979.jpg',\n",
       "       '000000000960.jpg', '000000000224.jpg', '000000010368.jpg',\n",
       "       '000000000979.jpg', '000000000912.jpg'], dtype='<U256')"
      ]
     },
     "execution_count": 22,
     "metadata": {},
     "output_type": "execute_result"
    }
   ],
   "source": [
    "path_array[batch_indices]"
   ]
  },
  {
   "cell_type": "code",
   "execution_count": null,
   "metadata": {},
   "outputs": [],
   "source": []
  },
  {
   "cell_type": "code",
   "execution_count": null,
   "metadata": {},
   "outputs": [],
   "source": []
  },
  {
   "cell_type": "code",
   "execution_count": 11,
   "metadata": {},
   "outputs": [
    {
     "name": "stdout",
     "output_type": "stream",
     "text": [
      "[273  89  93 ... 197 194  50] (1004,)\n"
     ]
    }
   ],
   "source": [
    "# file_path = 'data/embeddings/dist_to_cent.npy'\n",
    "# file_path = '/home/fbernardi/Documents/SemDeDup/data/embeddings/kmeans_centroids.npy'\n",
    "file_path = '/home/fbernardi/Documents/SemDeDup/data/embeddings/nearest_cent.npy'\n",
    "\n",
    "print(np.load(file_path),\n",
    "np.load(file_path).shape)"
   ]
  },
  {
   "cell_type": "code",
   "execution_count": null,
   "metadata": {},
   "outputs": [
    {
     "ename": "NameError",
     "evalue": "name 'dataset_size' is not defined",
     "output_type": "error",
     "traceback": [
      "\u001b[0;31m---------------------------------------------------------------------------\u001b[0m",
      "\u001b[0;31mNameError\u001b[0m                                 Traceback (most recent call last)",
      "Cell \u001b[0;32mIn[1], line 9\u001b[0m\n\u001b[1;32m      3\u001b[0m \u001b[38;5;66;03m# Replace 'data.npy' with your actual file name or path\u001b[39;00m\n\u001b[1;32m      4\u001b[0m file_path \u001b[38;5;241m=\u001b[39m \u001b[38;5;124m\"\u001b[39m\u001b[38;5;124m/home/fbernardi/Documents/SemDeDup/data/embeddings/dist_to_cent.npy\u001b[39m\u001b[38;5;124m\"\u001b[39m\n\u001b[1;32m      5\u001b[0m data \u001b[38;5;241m=\u001b[39m np\u001b[38;5;241m.\u001b[39mmemmap(\n\u001b[1;32m      6\u001b[0m     file_path,\n\u001b[1;32m      7\u001b[0m     dtype\u001b[38;5;241m=\u001b[39m\u001b[38;5;124m'\u001b[39m\u001b[38;5;124mfloat32\u001b[39m\u001b[38;5;124m'\u001b[39m,\n\u001b[1;32m      8\u001b[0m     mode\u001b[38;5;241m=\u001b[39m\u001b[38;5;124m'\u001b[39m\u001b[38;5;124mr\u001b[39m\u001b[38;5;124m'\u001b[39m,  \u001b[38;5;66;03m# read-only\u001b[39;00m\n\u001b[0;32m----> 9\u001b[0m     shape\u001b[38;5;241m=\u001b[39m(\u001b[43mdataset_size\u001b[49m, emb_size)\n\u001b[1;32m     10\u001b[0m )\n\u001b[1;32m     12\u001b[0m \u001b[38;5;28mprint\u001b[39m(\u001b[38;5;124m\"\u001b[39m\u001b[38;5;124mLoaded data:\u001b[39m\u001b[38;5;124m\"\u001b[39m, data)\n",
      "\u001b[0;31mNameError\u001b[0m: name 'dataset_size' is not defined"
     ]
    }
   ],
   "source": [
    "import numpy as np\n",
    "\n",
    "# Replace 'data.npy' with your actual file name or path\n",
    "file_path = \"/home/fbernardi/Documents/SemDeDup/data/embeddings/embs.npy\"\n",
    "data = np.memmap(\n",
    "    file_path,\n",
    "    dtype='float32',\n",
    "    mode='r',  # read-only\n",
    "    shape=(dataset_size, emb_size)\n",
    ")\n",
    "\n",
    "print(\"Loaded data:\", data)"
   ]
  },
  {
   "cell_type": "code",
   "execution_count": 29,
   "metadata": {},
   "outputs": [
    {
     "data": {
      "text/plain": [
       "memmap([-6.36093020e-02, -1.67762786e-02,  4.36458141e-02,\n",
       "        -4.82349796e-03,  3.45024988e-02, -2.32574344e-02,\n",
       "        -2.49317451e-03, -6.22026809e-02, -1.26413144e-02,\n",
       "        -7.81361386e-03,  3.32660377e-02,  5.08501194e-03,\n",
       "         1.42847765e-02, -2.54854485e-02,  2.80646281e-03,\n",
       "         4.18728478e-02,  5.67851216e-03,  1.23474412e-02,\n",
       "         7.87839200e-03,  1.06908251e-02,  1.95562169e-02,\n",
       "        -3.89889610e-04,  5.73137477e-02,  7.79694831e-03,\n",
       "        -2.02623080e-03,  4.92877839e-03,  1.46089764e-02,\n",
       "        -4.46669571e-02, -9.41669755e-03,  2.94540729e-02,\n",
       "         2.64614485e-02,  8.21091235e-03,  6.22427277e-03,\n",
       "         2.71132472e-03, -6.71255589e-02,  3.24139148e-02,\n",
       "        -2.22830027e-02, -3.43820415e-02, -1.95267890e-02,\n",
       "         1.44049540e-01, -1.66624319e-02, -4.63205576e-02,\n",
       "        -2.10069097e-03, -4.46671844e-02,  6.81137433e-03,\n",
       "        -2.41442427e-01, -2.01218706e-02,  5.18792309e-02,\n",
       "        -3.40216747e-03,  4.13236283e-02,  1.87341105e-02,\n",
       "         1.44519343e-03,  3.28325592e-02,  7.93654658e-03,\n",
       "        -2.50853784e-02, -4.25255448e-02, -5.58246449e-02,\n",
       "        -1.84701458e-02, -2.52635069e-02, -3.67358923e-02,\n",
       "         3.48225795e-02, -3.51691968e-03, -1.51555203e-02,\n",
       "        -4.25215624e-02,  1.38555821e-02, -1.47196231e-02,\n",
       "         4.28426079e-02,  4.82981019e-02, -1.50114894e-02,\n",
       "        -2.06877477e-02,  1.05468044e-03, -1.00456560e-02,\n",
       "        -1.28667951e-02,  4.02530842e-03,  8.47160351e-03,\n",
       "        -2.78168693e-02,  5.51855192e-03,  8.36958468e-04,\n",
       "        -1.36515126e-02, -2.51174942e-02, -1.98511537e-02,\n",
       "        -1.25985518e-02,  5.60481148e-03,  6.47019222e-02,\n",
       "         3.81223671e-02,  2.02234760e-02,  1.06031001e-02,\n",
       "        -9.14359558e-03, -7.34124258e-02, -1.77254516e-03,\n",
       "        -7.79875042e-03, -1.34361368e-02, -5.18130481e-01,\n",
       "         5.46706188e-03, -5.05427178e-03,  2.24994626e-02,\n",
       "         1.75401270e-02, -6.31458359e-03, -2.28447635e-02,\n",
       "        -6.46063015e-02, -8.18255842e-02,  1.83980539e-02,\n",
       "         1.41351176e-02, -1.85896438e-02, -2.59790458e-02,\n",
       "         2.76521649e-02,  1.70777179e-03,  9.87608265e-03,\n",
       "        -1.42991701e-02, -1.16794370e-02, -1.69570465e-02,\n",
       "         8.19164386e-04, -2.26259697e-03,  1.93112064e-02,\n",
       "        -4.12026374e-03, -3.84380445e-02,  2.68176645e-02,\n",
       "         1.53050330e-02,  2.93995831e-02,  3.14715952e-02,\n",
       "         5.33881737e-03, -4.41962928e-02,  1.46607095e-02,\n",
       "         5.06446101e-02, -2.86044031e-02, -1.44577748e-03,\n",
       "         2.11258177e-02, -1.21192858e-02, -3.96299437e-02,\n",
       "        -7.51317805e-03,  5.17019220e-02, -7.97442347e-03,\n",
       "        -1.72927938e-02,  6.62513971e-02, -2.56385822e-02,\n",
       "         6.85018767e-03,  2.22804714e-02,  3.71719487e-02,\n",
       "         2.55025048e-02,  2.36443654e-02,  5.28739206e-02,\n",
       "        -2.43918225e-02,  5.59536740e-02, -1.11946296e-02,\n",
       "         1.41776586e-02,  2.82234717e-02, -1.58328041e-02,\n",
       "         2.16280017e-03,  2.25756895e-02,  3.50830406e-02,\n",
       "         3.62505317e-02,  5.79443574e-02,  2.13797688e-02,\n",
       "         8.60777032e-03, -1.11987991e-02, -4.84516360e-02,\n",
       "        -1.18095642e-02,  8.21190048e-03, -3.75034697e-02,\n",
       "        -7.58519163e-03,  2.66835503e-02, -5.29554114e-03,\n",
       "         1.91026720e-05, -2.13937815e-02,  7.88015872e-03,\n",
       "        -2.20454149e-02,  2.82914825e-02, -3.22258621e-02,\n",
       "         3.25962119e-02, -1.76506713e-02,  2.36757845e-02,\n",
       "        -1.89579166e-02,  9.76735353e-03,  1.14125907e-02,\n",
       "        -1.75163094e-02,  3.38747390e-02,  2.19078824e-01,\n",
       "         1.63407847e-02, -1.07656963e-01, -9.01034742e-04,\n",
       "         7.75208557e-03, -1.85891204e-02, -2.82787979e-02,\n",
       "         1.23659559e-02, -4.79544699e-03, -1.77483875e-02,\n",
       "         1.14782639e-02, -3.27666700e-02, -5.47318440e-03,\n",
       "        -3.86636667e-02, -5.25040738e-02, -1.30426446e-02,\n",
       "        -2.51012016e-02, -3.55702899e-02,  1.90113450e-03,\n",
       "        -5.70573937e-03,  4.52766158e-02,  2.52584601e-03,\n",
       "        -5.22660017e-02, -1.42840052e-03, -4.67437692e-02,\n",
       "         7.20585603e-03, -4.62984759e-03, -8.99657886e-03,\n",
       "         2.47893278e-02,  1.40071698e-02, -2.32982129e-04,\n",
       "        -3.61493938e-02,  4.60523926e-03, -8.98503140e-03,\n",
       "        -5.94811700e-03, -7.57780252e-03, -8.71672668e-03,\n",
       "         1.10173076e-02, -3.74873541e-02, -2.30421238e-02,\n",
       "        -2.82244068e-02, -3.13409045e-02,  1.48132324e-01,\n",
       "        -2.30078138e-02,  6.68420270e-02,  2.73130517e-02,\n",
       "        -5.37178898e-03, -1.99566828e-03,  1.45093147e-02,\n",
       "         1.99946202e-02,  4.50148713e-03,  1.34532228e-02,\n",
       "        -3.00370622e-02,  4.09014262e-02,  7.91810974e-02,\n",
       "        -1.61483213e-02, -9.20401234e-03,  6.37545735e-02,\n",
       "        -1.60990749e-02,  2.39203442e-02, -9.06244386e-03,\n",
       "        -1.78699680e-02, -2.51068007e-02, -4.86065671e-02,\n",
       "        -1.73066463e-02, -2.60684118e-02, -3.20265442e-02,\n",
       "         5.28229680e-03,  3.59793566e-02,  6.40470088e-02,\n",
       "        -1.18388962e-02, -3.34347710e-02, -1.71767548e-02,\n",
       "         5.73842712e-02,  1.78189222e-02,  3.51716280e-02,\n",
       "        -1.00062741e-02, -3.93164053e-04, -1.93181392e-02,\n",
       "         6.10848852e-02,  5.95823023e-03, -2.62712166e-02,\n",
       "         7.28951991e-02, -3.09539642e-02, -1.91607084e-02,\n",
       "        -3.65674458e-02,  6.51438832e-02,  1.05669700e-01,\n",
       "         3.09626386e-02, -1.16635049e-02, -9.43585951e-03,\n",
       "         3.23578566e-02,  2.98463483e-03, -2.59001777e-02,\n",
       "         8.07262398e-03, -2.90358178e-02,  2.19196919e-02,\n",
       "        -1.75744283e-03, -1.16408262e-02,  9.90217365e-03,\n",
       "         1.45801092e-02, -1.23240165e-02, -1.57438766e-03,\n",
       "         2.08178051e-02,  1.22413523e-02, -2.49975473e-02,\n",
       "         2.85112467e-02,  2.22770013e-02,  3.59086283e-02,\n",
       "        -6.29092306e-02,  4.12890203e-02,  1.80368666e-02,\n",
       "        -5.57450317e-02,  7.71135790e-03,  6.18606526e-03,\n",
       "         2.42753476e-02,  1.63490139e-02, -1.61123890e-02,\n",
       "        -1.29881063e-02, -3.38713359e-03, -3.34475785e-02,\n",
       "        -2.52550822e-02, -5.78159355e-02, -1.61500387e-02,\n",
       "        -2.21846830e-02,  2.61656027e-02, -2.60875672e-02,\n",
       "         1.67359859e-02, -7.57744594e-04, -2.29338580e-03,\n",
       "        -5.66478306e-03, -5.04321977e-02,  1.45146213e-02,\n",
       "        -2.80363839e-02, -1.47158047e-02,  4.62731868e-02,\n",
       "         6.58621565e-02, -1.52958669e-02, -1.49625186e-02,\n",
       "        -1.71735846e-02,  2.87984740e-02,  4.86969426e-02,\n",
       "         1.58367287e-02, -5.04026897e-02,  2.18056869e-02,\n",
       "         1.16110697e-01,  3.22886780e-02,  9.12250765e-03,\n",
       "         3.43053043e-02,  2.03265008e-02,  7.16807460e-03,\n",
       "         5.31682186e-03, -1.47648463e-02, -4.74156551e-02,\n",
       "         1.25633059e-02, -1.06775090e-02,  2.88028382e-02,\n",
       "        -1.27174836e-02,  6.61829673e-03, -1.52085042e-02,\n",
       "        -2.40596198e-02, -2.35364195e-02,  9.02045518e-03,\n",
       "        -5.49862720e-02,  2.05397476e-02,  9.55974776e-03,\n",
       "        -2.26932541e-02,  1.00111486e-02, -2.40977369e-02,\n",
       "        -2.36462187e-02,  1.73169374e-02,  6.68274760e-02,\n",
       "         1.65693313e-02, -3.46397683e-02,  9.96861756e-02,\n",
       "        -9.54674184e-03, -1.17284460e-02, -2.29400257e-03,\n",
       "         1.33251734e-02,  1.60587374e-02,  2.89684199e-02,\n",
       "         6.03556745e-02, -1.35054952e-02,  6.61254671e-06,\n",
       "        -5.84335998e-02,  1.33357216e-02,  1.76500995e-02,\n",
       "         5.67502775e-06, -1.20728701e-01, -1.90307610e-02,\n",
       "         4.51191291e-02, -5.06400168e-02, -9.60759167e-03,\n",
       "        -3.81871350e-02, -2.49499716e-02,  3.71345170e-02,\n",
       "         2.37630345e-02,  3.29489075e-02,  8.99221841e-03,\n",
       "         5.76096587e-02,  2.04310253e-01,  1.27175339e-02,\n",
       "         3.09986696e-02,  1.14268493e-02, -2.77424846e-02,\n",
       "        -1.55527759e-02, -6.13335939e-03,  1.47616323e-02,\n",
       "         5.14128134e-02, -3.82679030e-02, -1.01084113e-02,\n",
       "        -4.13190341e-03, -2.68494636e-02,  2.03441596e-03,\n",
       "        -6.77352473e-02,  7.96353146e-02,  5.41134272e-03,\n",
       "         2.97217276e-02, -4.94560339e-02, -5.06740995e-03,\n",
       "         9.29967780e-03, -3.89281735e-02,  1.64996199e-02,\n",
       "         2.45344043e-02, -1.85253937e-03,  1.23392418e-02,\n",
       "         4.22551036e-02, -3.36830579e-02,  1.51339974e-02,\n",
       "        -9.19672847e-03,  4.11203615e-02, -2.99401060e-02,\n",
       "        -6.91941939e-03, -2.69073956e-02,  3.81419919e-02,\n",
       "         2.03724392e-03,  6.85304636e-04,  1.84353106e-02,\n",
       "         1.91937969e-03,  4.37850952e-02, -6.69134781e-02,\n",
       "         1.12690208e-02, -4.09950279e-02, -3.95456254e-02,\n",
       "         9.99226607e-03, -2.56858394e-02, -2.62487009e-02,\n",
       "        -7.87510946e-02, -4.73927855e-02,  6.94796965e-02,\n",
       "         2.54549924e-02, -1.34924268e-02, -1.22216180e-01,\n",
       "         7.91728497e-03, -3.23034078e-02, -5.01337536e-02,\n",
       "         1.71865016e-01, -8.44404846e-03,  7.37976804e-02,\n",
       "         7.70256796e-04,  8.87252390e-03,  3.86360437e-02,\n",
       "         4.20083702e-02, -9.82965529e-03, -2.92212721e-02,\n",
       "        -1.79323647e-02, -1.33286444e-02,  3.98835093e-02,\n",
       "        -6.02315040e-03, -9.82901827e-03,  3.28997634e-02,\n",
       "        -5.50282141e-03,  7.98033644e-03, -2.25709137e-02,\n",
       "         3.09367944e-02,  1.12553332e-02,  1.58557128e-02,\n",
       "         3.37362923e-02,  1.47763807e-02,  4.09937976e-03,\n",
       "         1.50105711e-02,  2.06383802e-02,  6.42570704e-02,\n",
       "         4.12077643e-02,  1.17653860e-02,  1.31146209e-02,\n",
       "         8.31132103e-03, -4.78699990e-03, -2.12604050e-02,\n",
       "        -2.25133332e-03, -1.46382833e-02, -3.73135246e-02,\n",
       "        -4.38932888e-02,  6.29767263e-03,  1.92199331e-02,\n",
       "        -1.42524401e-02,  3.75671573e-02, -4.22493964e-02,\n",
       "         3.04216072e-02, -2.92380806e-02,  2.26974022e-02,\n",
       "         4.95669656e-02,  2.70667579e-02,  2.95322221e-02,\n",
       "         2.70478409e-02,  3.05513833e-02,  9.50637332e-04,\n",
       "        -1.84473842e-02,  4.84968461e-02,  8.71399343e-02,\n",
       "         8.11960083e-04,  3.23590599e-02,  2.91254800e-02,\n",
       "         9.23428312e-03,  6.66204188e-03,  3.51391057e-03,\n",
       "         8.29658378e-03, -6.02403991e-02, -1.03915241e-02,\n",
       "         7.68785318e-03,  1.93105005e-02,  7.95551389e-03,\n",
       "         2.59996168e-02, -3.67146768e-02,  3.27637680e-02,\n",
       "        -1.30619705e-02,  1.27437608e-02,  1.00200698e-02,\n",
       "        -4.58746627e-02,  4.53319401e-02, -1.22834630e-02,\n",
       "         1.15971006e-02, -1.75057724e-02,  7.42361918e-02,\n",
       "        -3.21401171e-02,  5.49924606e-03], dtype=float32)"
      ]
     },
     "execution_count": 29,
     "metadata": {},
     "output_type": "execute_result"
    }
   ],
   "source": [
    "data[0]"
   ]
  },
  {
   "cell_type": "code",
   "execution_count": 24,
   "metadata": {},
   "outputs": [
    {
     "data": {
      "text/plain": [
       "[180,\n",
       " 525,\n",
       " 0,\n",
       " 996,\n",
       " 670,\n",
       " 862,\n",
       " 725,\n",
       " 577,\n",
       " 634,\n",
       " 578,\n",
       " 184,\n",
       " 190,\n",
       " 739,\n",
       " 586,\n",
       " 750,\n",
       " 954,\n",
       " 814,\n",
       " 140,\n",
       " 267,\n",
       " 852,\n",
       " 883,\n",
       " 826,\n",
       " 88,\n",
       " 943,\n",
       " 777,\n",
       " 273,\n",
       " 949,\n",
       " 321,\n",
       " 83,\n",
       " 589,\n",
       " 361,\n",
       " 319]"
      ]
     },
     "execution_count": 24,
     "metadata": {},
     "output_type": "execute_result"
    }
   ],
   "source": [
    "batch_indices"
   ]
  },
  {
   "cell_type": "code",
   "execution_count": 31,
   "metadata": {},
   "outputs": [],
   "source": [
    "file_path = \"/home/fbernardi/Documents/SemDeDup/data/embeddings/path.npy\"\n",
    "paths_str_type = 'U256'\n",
    "\n",
    "paths = np.memmap(\n",
    "    file_path,\n",
    "    dtype=paths_str_type,\n",
    "    mode='r',  # read-only\n",
    "    shape=(dataset_size,)\n",
    ")"
   ]
  },
  {
   "cell_type": "code",
   "execution_count": 34,
   "metadata": {},
   "outputs": [
    {
     "data": {
      "text/plain": [
       "(1004,)"
      ]
     },
     "execution_count": 34,
     "metadata": {},
     "output_type": "execute_result"
    }
   ],
   "source": [
    "paths.shape"
   ]
  },
  {
   "cell_type": "code",
   "execution_count": 35,
   "metadata": {},
   "outputs": [
    {
     "data": {
      "text/plain": [
       "array(['000000000527.jpg', '000000010133.jpg', '000000000084.jpg',\n",
       "       '000000011394.jpg', '000000010571.jpg', '000000011143.jpg',\n",
       "       '000000010723.jpg', '000000010278.jpg', '000000010409.jpg',\n",
       "       '000000010302.jpg', '000000000439.jpg', '000000000519.jpg',\n",
       "       '000000010795.jpg', '000000010349.jpg', '000000010793.jpg',\n",
       "       '000000011156.jpg', '000000011020.jpg', '000000000422.jpg',\n",
       "       '000000000787.jpg', '000000011053.jpg', '000000011151.jpg',\n",
       "       '000000010932.jpg', '000000000345.jpg', '000000011260.jpg',\n",
       "       '000000010872.jpg', '000000000739.jpg', '000000010979.jpg',\n",
       "       '000000000960.jpg', '000000000224.jpg', '000000010368.jpg',\n",
       "       '000000000979.jpg', '000000000912.jpg'], dtype='<U256')"
      ]
     },
     "execution_count": 35,
     "metadata": {},
     "output_type": "execute_result"
    }
   ],
   "source": [
    "path_array[batch_indices]"
   ]
  }
 ],
 "metadata": {
  "kernelspec": {
   "display_name": "semdedup",
   "language": "python",
   "name": "python3"
  },
  "language_info": {
   "codemirror_mode": {
    "name": "ipython",
    "version": 3
   },
   "file_extension": ".py",
   "mimetype": "text/x-python",
   "name": "python",
   "nbconvert_exporter": "python",
   "pygments_lexer": "ipython3",
   "version": "3.9.7"
  }
 },
 "nbformat": 4,
 "nbformat_minor": 2
}
